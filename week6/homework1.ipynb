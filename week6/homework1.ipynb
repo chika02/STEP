{
  "nbformat": 4,
  "nbformat_minor": 0,
  "metadata": {
    "colab": {
      "name": "Q5.ipynb",
      "provenance": []
    },
    "kernelspec": {
      "name": "python3",
      "display_name": "Python 3"
    }
  },
  "cells": [
    {
      "cell_type": "markdown",
      "metadata": {
        "id": "Bhzq5ySAdXPR",
        "colab_type": "text"
      },
      "source": [
        "homework1 - explain why this happens:"
      ]
    },
    {
      "cell_type": "code",
      "metadata": {
        "id": "luODnYBnc8Qz",
        "colab_type": "code",
        "colab": {
          "base_uri": "https://localhost:8080/",
          "height": 50
        },
        "outputId": "520356ef-a4a1-4a98-c54f-cf89d46d73d6"
      },
      "source": [
        "def foo(b):\n",
        "   b.append(2)\n",
        "   b = b + [3]\n",
        "   b.append(4)\n",
        "   print('b:', b)\n",
        "a = [1]\n",
        "foo(a)\n",
        "print('a:', a)"
      ],
      "execution_count": 1,
      "outputs": [
        {
          "output_type": "stream",
          "text": [
            "b: [1, 2, 3, 4]\n",
            "a: [1, 2]\n"
          ],
          "name": "stdout"
        }
      ]
    },
    {
      "cell_type": "markdown",
      "metadata": {
        "id": "x6u1hRrIeEnj",
        "colab_type": "text"
      },
      "source": [
        "The above case can be explained as follows: <br>\n",
        "- when 'a' is given to 'foo', the address of 'a' is given to the function. Thus, 'b' has the same address internally\n",
        "- when 'append' is operated it operates to the address of 'b' which is the same as 'a'\n",
        "- when 'b+[3]' is operated, it makes a new array which has the same elements as 'b+[3]' and substitute b with the address of it.\n",
        "- in the example at the bottom you can see the same thing happening with 'a += 1' and 'a = a+1'"
      ]
    },
    {
      "cell_type": "code",
      "metadata": {
        "id": "dvmRxyMPdUtC",
        "colab_type": "code",
        "colab": {
          "base_uri": "https://localhost:8080/",
          "height": 250
        },
        "outputId": "240c01dc-806e-4b0a-b27c-038abf684616"
      },
      "source": [
        "def foo(b):\n",
        "   print('in foo:\\nid(b)=%#08x\\n'%id(b))\n",
        "   b.append(2)\n",
        "   b = b + [3]\n",
        "   print('after summation:\\nid(b)=%#08x\\n'%id(b))\n",
        "   b.append(4)\n",
        "   print('b:', b)\n",
        "a = [1]\n",
        "print('before foo:\\nid(a)=%#08x\\n'%id(a))\n",
        "foo(a)\n",
        "print('after foo:\\nid(a)=%#08x\\n'%id(a))\n",
        "print('a:', a)"
      ],
      "execution_count": 14,
      "outputs": [
        {
          "output_type": "stream",
          "text": [
            "before foo:\n",
            "id(a)=0x7f7540eb00c8\n",
            "\n",
            "in foo:\n",
            "id(b)=0x7f7540eb00c8\n",
            "\n",
            "after summation:\n",
            "id(b)=0x7f7540ef5e48\n",
            "\n",
            "b: [1, 2, 3, 4]\n",
            "after foo:\n",
            "id(a)=0x7f7540eb00c8\n",
            "\n",
            "a: [1, 2]\n"
          ],
          "name": "stdout"
        }
      ]
    },
    {
      "cell_type": "code",
      "metadata": {
        "id": "LBG83fxMiQDd",
        "colab_type": "code",
        "colab": {
          "base_uri": "https://localhost:8080/",
          "height": 66
        },
        "outputId": "db5712f7-b656-443d-8d74-2f5c5a249602"
      },
      "source": [
        "a = 1\n",
        "b = 2\n",
        "print('%#08x'%id(a))\n",
        "a += 1\n",
        "print('%#08x'%id(a))\n",
        "a = a+1\n",
        "print('%#08x'%id(a))"
      ],
      "execution_count": 19,
      "outputs": [
        {
          "output_type": "stream",
          "text": [
            "0xa68ac0\n",
            "0xa68ae0\n",
            "0xa68b00\n"
          ],
          "name": "stdout"
        }
      ]
    }
  ]
}